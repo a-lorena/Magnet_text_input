{
 "cells": [
  {
   "cell_type": "code",
   "execution_count": null,
   "id": "ac748b03",
   "metadata": {},
   "outputs": [],
   "source": [
    "import numpy as np\n",
    "import pandas as pd\n",
    "import seaborn as sns\n",
    "import matplotlib.pyplot as plt\n",
    "import cv2\n",
    "import os\n",
    "import glob\n",
    "import sys\n",
    "\n",
    "np.set_printoptions(threshold=np.inf)"
   ]
  },
  {
   "cell_type": "code",
   "execution_count": null,
   "id": "ba63682f",
   "metadata": {},
   "outputs": [],
   "source": [
    "LETTERS = ['A', 'B', 'C', 'D', 'E', 'F', 'G', 'H', 'I', 'J', 'K', 'L', 'M',\n",
    "           'N', 'O', 'P', 'Q', 'R', 'S', 'T', 'U', 'V', 'W', 'X', 'Y', 'Z']\n",
    "\n",
    "CLASSES = []\n",
    "for i in range(0, len(LETTERS)):\n",
    "    CLASSES.append(i)\n",
    "    \n",
    "#print(\"CLASSES: \" + str(CLASSES))\n",
    "\n",
    "DATA_DIR = \"2D_slike_slova/Iznad_uredaja/\"\n",
    "#DATA_DIR = \"2D_slike_slova/Pored_uredaja/\"\n",
    "\n",
    "SAVE_DIR = \"Prosjecni_izgled_slova/Iznad/\"\n",
    "#SAVE_DIR = \"Prosjecni_izgled_slova/Pored_uredaja/\""
   ]
  },
  {
   "cell_type": "code",
   "execution_count": null,
   "id": "14b32a3d",
   "metadata": {},
   "outputs": [],
   "source": [
    "def load_images(letter):\n",
    "    dataset = []\n",
    "    path = DATA_DIR + str(letter) + \"/*.png\"\n",
    "    print(path)\n",
    "    \n",
    "    for image in glob.glob(path):\n",
    "        image_array = cv2.imread(image, cv2.IMREAD_GRAYSCALE)\n",
    "        dataset.append(image_array)\n",
    "    \n",
    "    return dataset"
   ]
  },
  {
   "cell_type": "code",
   "execution_count": null,
   "id": "b0a5a422",
   "metadata": {},
   "outputs": [],
   "source": [
    "def get_image_sum(dataset, rows_num, colls_num):\n",
    "    image_sum = np.zeros((rows_num, colls_num))\n",
    "\n",
    "    for image in dataset:\n",
    "        for i in range(rows_num):\n",
    "            for j in range(colls_num):\n",
    "                if image[i][j] > 0:\n",
    "                    image_sum[i][j] += 1\n",
    "\n",
    "    return image_sum\n",
    "\n",
    "\n",
    "def get_min_max_values(average_image):\n",
    "    min_value = 0\n",
    "    max_value = average_image[0][0]\n",
    "    \n",
    "    for i in range(rows_num):\n",
    "        for j in range(colls_num):\n",
    "            if average_image[i][j] > max_value:\n",
    "                max_value = average_image[i][j]\n",
    "            if average_image[i][j] < min_value:\n",
    "                min_value = average_image[i][j]\n",
    "\n",
    "    print(\"Min: \" + str(min_value) + \"\\nMax: \" + str(max_value))\n",
    "    \n",
    "    return min_value, max_value"
   ]
  },
  {
   "cell_type": "code",
   "execution_count": null,
   "id": "e08b4033",
   "metadata": {},
   "outputs": [],
   "source": [
    "def get_reconstruction(average_image, max_num):\n",
    "    rec_image = np.zeros((rows_num, colls_num))\n",
    "\n",
    "    for i in range(rows_num):\n",
    "        for j in range(colls_num):\n",
    "            rec_image[i][j] = average_image[i][j] / max_num\n",
    "            rec_image[i][j] = round(rec_image[i][j] * 255)\n",
    "            \n",
    "            if rec_image[i][j] < 50:\n",
    "                rec_image[i][j] = 0\n",
    "            \n",
    "    return rec_image"
   ]
  },
  {
   "cell_type": "code",
   "execution_count": null,
   "id": "b9a3294b",
   "metadata": {},
   "outputs": [],
   "source": [
    "for l in LETTERS:\n",
    "    dataset = load_images(l)\n",
    "    rows_num = len(dataset[0])\n",
    "    colls_num = len(dataset[0][0])\n",
    "    \n",
    "    average_image = get_image_sum(dataset, rows_num, colls_num)\n",
    "    min_value, max_value = get_min_max_values(average_image)\n",
    "    \n",
    "    rec_image = get_reconstruction(average_image, max_value)\n",
    "    \n",
    "    fig = plt.figure()\n",
    "    ax = fig.subplots()\n",
    "    ax.axis('off')\n",
    "    ax.imshow(rec_image, cmap='gray')\n",
    "    plt.savefig(SAVE_DIR + str(l) + \".png\", bbox_inches='tight', pad_inches=0)\n",
    "    #plt.imshow(rec_image, cmap='gray')"
   ]
  }
 ],
 "metadata": {
  "kernelspec": {
   "display_name": "Python 3 (ipykernel)",
   "language": "python",
   "name": "python3"
  },
  "language_info": {
   "codemirror_mode": {
    "name": "ipython",
    "version": 3
   },
   "file_extension": ".py",
   "mimetype": "text/x-python",
   "name": "python",
   "nbconvert_exporter": "python",
   "pygments_lexer": "ipython3",
   "version": "3.7.13"
  }
 },
 "nbformat": 4,
 "nbformat_minor": 5
}
