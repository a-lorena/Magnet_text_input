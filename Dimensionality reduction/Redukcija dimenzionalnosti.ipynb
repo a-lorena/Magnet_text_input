{
 "cells": [
  {
   "cell_type": "code",
   "execution_count": null,
   "id": "0095d644",
   "metadata": {},
   "outputs": [],
   "source": [
    "import matplotlib.pyplot as plt\n",
    "import matplotlib\n",
    "from sklearn import preprocessing\n",
    "import numpy as np\n",
    "import json\n",
    "from tabulate import tabulate\n",
    "import random"
   ]
  },
  {
   "cell_type": "code",
   "execution_count": null,
   "id": "78ea15fc",
   "metadata": {},
   "outputs": [],
   "source": [
    "LETTERS = ['A', 'B', 'C', 'D', 'E', 'F', 'G', 'H', 'I', 'J', 'K', 'L', 'M', 'N', 'O', 'P', 'Q', 'R', 'S', 'T', 'U', 'V', 'W', 'X', 'Y', 'Z']\n",
    "\n",
    "CLASSES = []\n",
    "for i in range(0, len(LETTERS)):\n",
    "    CLASSES.append(i)\n",
    "    \n",
    "#print(CLASSES)\n",
    "\n",
    "FILES = [\"User1_iznad\", \"User2_iznad\"]\n",
    "#FILES = [\"User1_pored\", \"User2_pored\"]"
   ]
  },
  {
   "cell_type": "code",
   "execution_count": null,
   "id": "1fa8d929",
   "metadata": {},
   "outputs": [],
   "source": [
    "data = []\n",
    "d = []\n",
    "for_print = []\n",
    "\n",
    "for fn in FILES:\n",
    "    with open(\"Dataset/\" + fn + '.json', 'r') as file:\n",
    "        f = json.load(file)\n",
    "\n",
    "        for letter in f:\n",
    "            l = letter[\"letter\"]\n",
    "            c = LETTERS.index(l) + 1\n",
    "            t = letter[\"t\"]\n",
    "            num = len(letter[\"fingerprint\"])\n",
    "            points = letter[\"fingerprint\"]\n",
    "\n",
    "            d = [c, l, t, num, points]\n",
    "            data.append(d)\n",
    "            d = []\n",
    "\n",
    "            ar = [c, l, t, num]\n",
    "            for_print.append(ar)\n",
    "            \n",
    "print(tabulate(for_print, headers=[\"Class\", \"Letter\", \"Time\", \"Number of points\"]))\n",
    "print(len(data))"
   ]
  },
  {
   "cell_type": "code",
   "execution_count": null,
   "id": "7d750cf3",
   "metadata": {},
   "outputs": [],
   "source": [
    "all_points = 0\n",
    "\n",
    "for d in data:\n",
    "    all_points += d[3]\n",
    "\n",
    "average_points = all_points // len(data)\n",
    "print(\"Average number of points: \" + str(average_points))\n",
    "print(\"--------------------------------\")\n",
    "\n",
    "for d in data:\n",
    "    letter_points = d[3]\n",
    "    difference = letter_points - average_points\n",
    "    \n",
    "    if difference > 0:\n",
    "        while difference > 0:\n",
    "            random_index = random.randint(0, d[3]-1)\n",
    "            \n",
    "            d[4].pop(random_index)\n",
    "            d[3] -= 1\n",
    "            \n",
    "            difference -= 1\n",
    "        \n",
    "    elif difference < 0:\n",
    "        while difference < 0:\n",
    "            before_index = random.randint(0, d[3]-2)\n",
    "            after_index = before_index + 1\n",
    "            \n",
    "            new_x = (d[4][before_index][0] + d[4][after_index][0]) / 2\n",
    "            new_y = (d[4][before_index][1] + d[4][after_index][1]) / 2\n",
    "            new_z = (d[4][before_index][2] + d[4][after_index][2]) / 2\n",
    "            \n",
    "            new_point = [new_x, new_y, new_z]\n",
    "            \n",
    "            d[4].insert(after_index, new_point)\n",
    "            d[3] += 1\n",
    "                \n",
    "            difference += 1"
   ]
  },
  {
   "cell_type": "code",
   "execution_count": null,
   "id": "6eb939e6",
   "metadata": {},
   "outputs": [],
   "source": [
    "dataset = []\n",
    "classes = []\n",
    "labels = []\n",
    "\n",
    "for d in data:\n",
    "    classes.append(d[0])\n",
    "    labels.append(d[1])\n",
    "    dataset.append(d[4])"
   ]
  },
  {
   "cell_type": "code",
   "execution_count": null,
   "id": "e3b1f090",
   "metadata": {},
   "outputs": [],
   "source": [
    "norm_dataset = []\n",
    "\n",
    "for d in dataset:\n",
    "    scaler = preprocessing.MinMaxScaler()\n",
    "    \n",
    "    norm_d = scaler.fit_transform(d)\n",
    "    norm_dataset.append(norm_d)\n",
    "    norm_d = []\n",
    "\n",
    "print(norm_dataset[0])"
   ]
  },
  {
   "cell_type": "code",
   "execution_count": null,
   "id": "67ec9d17",
   "metadata": {},
   "outputs": [],
   "source": [
    "from sklearn.manifold import TSNE\n",
    "from sklearn.decomposition import PCA\n",
    "from sklearn.decomposition import FastICA\n",
    "import pandas as pd\n",
    "\n",
    "norm_dataset = np.array(norm_dataset)\n",
    "norm_dataset = norm_dataset.reshape(norm_dataset.shape[0], -1)\n",
    "\n",
    "tsne = TSNE(n_components=3).fit_transform(norm_dataset)\n",
    "print(tsne)\n",
    "\n",
    "#pca_model = PCA(n_components=2)\n",
    "#pca_model.fit(norm_dataset)\n",
    "#pca = pca_model.transform(norm_dataset)\n",
    "\n",
    "#ica_model = FastICA(n_components=3, random_state=0, whiten='unit-variance')\n",
    "#ica= ica_model.fit_transform(norm_dataset)\n",
    "#print(ica.shape)"
   ]
  },
  {
   "cell_type": "code",
   "execution_count": null,
   "id": "fea0bb49",
   "metadata": {},
   "outputs": [],
   "source": [
    "data = {'x':tsne[:,0], 'y':tsne[:,1], 'dig':classes, 'label':labels}\n",
    "df = pd.DataFrame(data)\n",
    "df.head()"
   ]
  },
  {
   "cell_type": "code",
   "execution_count": null,
   "id": "19f4d23f",
   "metadata": {},
   "outputs": [],
   "source": [
    "import colorcet as cc\n",
    "import seaborn as sns\n",
    "\n",
    "n = len(LETTERS)\n",
    "print(n)\n",
    "\n",
    "palette = sns.color_palette(cc.glasbey, n_colors=n)\n",
    "image_name = input()"
   ]
  },
  {
   "cell_type": "code",
   "execution_count": null,
   "id": "891bd943",
   "metadata": {},
   "outputs": [],
   "source": [
    "plt.rcParams['figure.figsize'] = [8, 8]\n",
    "\n",
    "sns.scatterplot(data=df, x=\"x\", y=\"y\", hue=\"label\", style=\"label\", palette=palette, s=50)\n",
    "\n",
    "plt.legend(bbox_to_anchor=(1.15, 1), borderaxespad=0)\n",
    "plt.savefig(\"Slike/\" + image_name + \".png\", bbox_inches='tight')\n",
    "plt.show()"
   ]
  }
 ],
 "metadata": {
  "kernelspec": {
   "display_name": "Python 3 (ipykernel)",
   "language": "python",
   "name": "python3"
  },
  "language_info": {
   "codemirror_mode": {
    "name": "ipython",
    "version": 3
   },
   "file_extension": ".py",
   "mimetype": "text/x-python",
   "name": "python",
   "nbconvert_exporter": "python",
   "pygments_lexer": "ipython3",
   "version": "3.7.13"
  }
 },
 "nbformat": 4,
 "nbformat_minor": 5
}
