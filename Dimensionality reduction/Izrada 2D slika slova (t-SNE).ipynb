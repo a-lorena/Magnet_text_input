{
 "cells": [
  {
   "cell_type": "code",
   "execution_count": null,
   "id": "17a3836b",
   "metadata": {},
   "outputs": [],
   "source": [
    "import matplotlib.pyplot as plt\n",
    "import pandas as pd\n",
    "from sklearn import preprocessing\n",
    "import numpy as np\n",
    "import json\n",
    "from tabulate import tabulate\n",
    "from sklearn.manifold import TSNE\n",
    "import os"
   ]
  },
  {
   "cell_type": "code",
   "execution_count": null,
   "id": "3fb73743",
   "metadata": {},
   "outputs": [],
   "source": [
    "LETTERS = ['A', 'B', 'C', 'D', 'E', 'F', 'G', 'H', 'I', 'J', 'K', 'L', 'M', \n",
    "           'N', 'O', 'P', 'Q', 'R', 'S', 'T', 'U', 'V', 'W', 'X', 'Y', 'Z']\n",
    "\n",
    "CLASSES = []\n",
    "for i in range(0, len(LETTERS)):\n",
    "    CLASSES.append(i)\n",
    "    \n",
    "#print(CLASSES)\n",
    "\n",
    "SAVE_DIR = \"2D_slike_slova/Iznad_uredaja/\"\n",
    "#SAVE_DIR = \"2D_slike_slova/Pored_uredaja/\"\n",
    "\n",
    "for l in LETTERS:\n",
    "    save_path = os.path.join(SAVE_DIR, l)\n",
    "    \n",
    "    if (os.path.exists(save_path) == False):\n",
    "        os.mkdir(save_path)"
   ]
  },
  {
   "cell_type": "code",
   "execution_count": null,
   "id": "e32b8698",
   "metadata": {},
   "outputs": [],
   "source": [
    "FILES = [\"User1_iznad\", \"User2_iznad\"]\n",
    "#FILES = [\"User1_pored\", \"User2_pored\"]"
   ]
  },
  {
   "cell_type": "code",
   "execution_count": null,
   "id": "ec9e08eb",
   "metadata": {},
   "outputs": [],
   "source": [
    "data = []\n",
    "d = []\n",
    "for_print = []\n",
    "\n",
    "for fn in FILES:\n",
    "    with open(\"Dataset/\" + fn + '.json', 'r') as file:\n",
    "        f = json.load(file)\n",
    "\n",
    "        for letter in f:\n",
    "            l = letter[\"letter\"]\n",
    "            c = LETTERS.index(l)\n",
    "            t = letter[\"t\"]\n",
    "            num = len(letter[\"fingerprint\"])\n",
    "            if num > 0:\n",
    "                points = letter[\"fingerprint\"]\n",
    "\n",
    "                d = [c, l, t, num, points]\n",
    "                data.append(d)\n",
    "                d = []\n",
    "\n",
    "                ar = [c, l, t, num]\n",
    "                for_print.append(ar)\n",
    "            \n",
    "print(tabulate(for_print, headers=[\"Class\", \"Letter\", \"Time\", \"Number of points\"]))\n",
    "print(len(data))"
   ]
  },
  {
   "cell_type": "code",
   "execution_count": null,
   "id": "89f95dd3",
   "metadata": {},
   "outputs": [],
   "source": [
    "dataset = []\n",
    "classes = []\n",
    "labels = []\n",
    "\n",
    "for d in data:\n",
    "    classes.append(d[0])\n",
    "    labels.append(d[1])\n",
    "    dataset.append(d[4])"
   ]
  },
  {
   "cell_type": "code",
   "execution_count": null,
   "id": "7307524b",
   "metadata": {},
   "outputs": [],
   "source": [
    "import warnings\n",
    "warnings.filterwarnings('ignore')\n",
    "\n",
    "norm_dataset = []\n",
    "\n",
    "print(len(dataset))\n",
    "fig, ax = plt.subplots(nrows=1, ncols=1)\n",
    "plt.style.use('dark_background')\n",
    "\n",
    "\n",
    "for i in range(0, len(dataset)):\n",
    "    scaler = preprocessing.MinMaxScaler()\n",
    "    dataset[i] = scaler.fit_transform(dataset[i])\n",
    "    \n",
    "    dataset[i] = np.array(dataset[i])\n",
    "    dataset[i] = dataset[i].reshape(dataset[i].shape[0], -1)\n",
    "    \n",
    "    tsne = TSNE(n_components=2).fit_transform(dataset[i])\n",
    "    print(str(i) + \" \" + str(tsne[0]))\n",
    "    \n",
    "    data = {'x':tsne[:,0], 'y':tsne[:,1]}\n",
    "    df = pd.DataFrame(data)\n",
    "    \n",
    "    ax.grid(False)\n",
    "    ax.axis('off')\n",
    "    ax.scatter(df.x, df.y, color='white', s=10)\n",
    "    fig.savefig(SAVE_DIR + str(labels[i]) + \"/\" + str(i) + \".png\", bbox_inches='tight')\n",
    "    ax.clear()\n",
    "    #plt.show()"
   ]
  }
 ],
 "metadata": {
  "kernelspec": {
   "display_name": "Python 3 (ipykernel)",
   "language": "python",
   "name": "python3"
  },
  "language_info": {
   "codemirror_mode": {
    "name": "ipython",
    "version": 3
   },
   "file_extension": ".py",
   "mimetype": "text/x-python",
   "name": "python",
   "nbconvert_exporter": "python",
   "pygments_lexer": "ipython3",
   "version": "3.7.13"
  }
 },
 "nbformat": 4,
 "nbformat_minor": 5
}
